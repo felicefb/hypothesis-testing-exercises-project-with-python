{
 "cells": [
  {
   "cell_type": "markdown",
   "id": "d9d036c6",
   "metadata": {},
   "source": [
    "# Hypothesis testing problems"
   ]
  },
  {
   "cell_type": "markdown",
   "id": "d157c4db",
   "metadata": {},
   "source": [
    "## Exercise 1\n",
    "\n",
    "You are a nutritionist researching two different types of diets to see if there is a significant difference in weight loss after one month. You choose two random groups of people; one group follows the first diet, and the other follows the second. At the end of the month, you record the weight loss (in kg) for each person:\n",
    "\n",
    "| Diet 1 | Diet 2 |\n",
    "|:-------|:-------|\n",
    "| 2.0 | 3.0 |\n",
    "| 2.5 | 3.2 |\n",
    "| 3.0 | 3.1 |\n",
    "| 2.8 | 2.9 |\n",
    "| 2.3 | 2.8 |\n",
    "| 2.7 | 3.0 |\n",
    "| 2.5 | 3.2 |\n",
    "\n",
    "With these data, it seeks to answer the following question: Is there a significant difference in average weight loss between people who followed the first diet and those who followed the second diet?\n",
    "\n",
    "To draw conclusions, follow the points below:\n",
    "\n",
    "- State the hypothesis: null and alternative hypothesis.\n",
    "- Perform the test to test the hypothesis. You can use a Student's t-test.\n",
    "- Analyze the conclusions."
   ]
  },
  {
   "cell_type": "code",
   "execution_count": 11,
   "id": "8e0f3cf0",
   "metadata": {},
   "outputs": [
    {
     "name": "stdout",
     "output_type": "stream",
     "text": [
      "Z-score value: -3.8218448679853316\n",
      "P-value: 0.0001324570103167222\n",
      "Reject the null hypothesis: There is a significant difference in weight loss between the two diets.\n"
     ]
    }
   ],
   "source": [
    "import numpy as np\n",
    "import scipy.stats as stats\n",
    "\n",
    "# Data for the two diets\n",
    "diet_1 = np.array([2.0, 2.5, 3.0, 2.8, 2.3, 2.7, 2.5])\n",
    "diet_2 = np.array([3.0, 3.2, 3.1, 2.9, 2.8, 3.0, 3.2])\n",
    "\n",
    "# Sample means\n",
    "mean_1 = np.mean(diet_1)\n",
    "mean_2 = np.mean(diet_2)\n",
    "\n",
    "# Sample standard deviations \n",
    "std_1 = np.std(diet_1, ddof=0) \n",
    "std_2 = np.std(diet_2, ddof=0)  \n",
    "\n",
    "# Sample sizes\n",
    "n1 = len(diet_1)\n",
    "n2 = len(diet_2)\n",
    "\n",
    "# Z-test formula for two independent samples\n",
    "z_score = (mean_1 - mean_2) / np.sqrt((std_1**2 / n1) + (std_2**2 / n2))\n",
    "\n",
    "# Two-tailed p-value\n",
    "p_value = 2 * (1 - stats.norm.cdf(abs(z_score)))\n",
    "\n",
    "# Print results\n",
    "print(f\"Z-score value: {z_score}\")\n",
    "print(f\"P-value: {p_value:}\")\n",
    "\n",
    "# Conclusion\n",
    "alpha = 0.05  #SIGNIFICANCE LEVEL\n",
    "if p_value < alpha:\n",
    "    print(\"Reject the null hypothesis: There is a significant difference in weight loss between the two diets.\")\n",
    "else:\n",
    "    print(\"Fail to reject the null hypothesis: No significant difference in weight loss between the two diets.\")\n"
   ]
  },
  {
   "cell_type": "markdown",
   "id": "f432e18e",
   "metadata": {},
   "source": []
  },
  {
   "cell_type": "markdown",
   "id": "fc5f3721",
   "metadata": {},
   "source": [
    "## Exercise 2\n",
    "\n",
    "A farmer decides to test three different types of fertilizers to determine if one is superior in terms of corn production. The farmer plants corn on 15 identical plots and uses all three fertilizers (5 plots for each type). At the end of the season, he measures the corn yield (in kg) of each plot, with the following result:\n",
    "\n",
    "| Fertilizer 1 | Fertilizer 2 | Fertilizer 3 |\n",
    "|:-------------|:-------------|:-------------|\n",
    "| 20 | 22 | 24 |\n",
    "| 21 | 21 | 23 |\n",
    "| 20 | 23 | 22 |\n",
    "| 19 | 22 | 23 |\n",
    "| 20 | 21 | 24 |\n",
    "\n",
    "With this data, he seeks to answer the following question: Is there a significant difference in average corn yield between the three types of fertilizers?\n",
    "\n",
    "To help you, follow the points below:\n",
    "\n",
    "- State the hypothesis: null and alternative hypothesis.\n",
    "- Perform the ANOVA test.\n",
    "- Analyze the conclusions.\n",
    "- If one fertilizer is better than another, how can we know it?"
   ]
  },
  {
   "cell_type": "code",
   "execution_count": 10,
   "id": "eecad0ca",
   "metadata": {},
   "outputs": [
    {
     "name": "stdout",
     "output_type": "stream",
     "text": [
      "F-statistic: 20.315789473684188\n",
      "P-value: 0.00014047824793190472\n",
      "Reject the null hypothesis: There is a significant difference in corn yield between at least one of the fertilizers.\n",
      "     Multiple Comparison of Means - Tukey HSD, FWER=0.05      \n",
      "==============================================================\n",
      "   group1       group2    meandiff p-adj  lower  upper  reject\n",
      "--------------------------------------------------------------\n",
      "Fertilizer 1 Fertilizer 2      1.8 0.0099 0.4572 3.1428   True\n",
      "Fertilizer 1 Fertilizer 3      3.2 0.0001 1.8572 4.5428   True\n",
      "Fertilizer 2 Fertilizer 3      1.4 0.0409 0.0572 2.7428   True\n",
      "--------------------------------------------------------------\n"
     ]
    }
   ],
   "source": [
    "import numpy as np\n",
    "import scipy.stats as stats\n",
    "from scipy.stats import f_oneway\n",
    "\n",
    "# Data for the three fertilizers\n",
    "fertilizer_1 = np.array([20, 21, 20, 19, 20])\n",
    "fertilizer_2 = np.array([22, 21, 23, 22, 21])\n",
    "fertilizer_3 = np.array([24, 23, 22, 23, 24])\n",
    "\n",
    "# Perform ANOVA test\n",
    "f_stat, p_value = f_oneway(fertilizer_1, fertilizer_2, fertilizer_3)\n",
    "\n",
    "# Print results\n",
    "print(f\"F-statistic: {f_stat}\")\n",
    "print(f\"P-value: {p_value}\")\n",
    "\n",
    "# Conclusion\n",
    "alpha = 0.05\n",
    "if p_value < alpha:\n",
    "    print(\"Reject the null hypothesis: There is a significant difference in corn yield between at least one of the fertilizers.\")\n",
    "else:\n",
    "    print(\"Fail to reject the null hypothesis: No significant difference in corn yield between the fertilizers.\")\n",
    "\n",
    "    \n",
    "    \n",
    "from statsmodels.stats.multicomp import pairwise_tukeyhsd\n",
    "import numpy as np\n",
    "\n",
    "# Data for the three fertilizers\n",
    "fertilizer_1 = np.array([20, 21, 20, 19, 20])\n",
    "fertilizer_2 = np.array([22, 21, 23, 22, 21])\n",
    "fertilizer_3 = np.array([24, 23, 22, 23, 24])\n",
    "\n",
    "# Combine all data into a single list\n",
    "data = np.concatenate([fertilizer_1, fertilizer_2, fertilizer_3])\n",
    "\n",
    "# Create group labels\n",
    "labels = (['Fertilizer 1'] * len(fertilizer_1) + \n",
    "          ['Fertilizer 2'] * len(fertilizer_2) + \n",
    "          ['Fertilizer 3'] * len(fertilizer_3))\n",
    "\n",
    "# Perform Tukey's HSD test\n",
    "tukey_results = pairwise_tukeyhsd(data, labels, alpha=0.05)\n",
    "\n",
    "# Display results\n",
    "print(tukey_results)\n",
    "\n"
   ]
  }
 ],
 "metadata": {
  "kernelspec": {
   "display_name": "Python 3",
   "language": "python",
   "name": "python3"
  },
  "language_info": {
   "codemirror_mode": {
    "name": "ipython",
    "version": 3
   },
   "file_extension": ".py",
   "mimetype": "text/x-python",
   "name": "python",
   "nbconvert_exporter": "python",
   "pygments_lexer": "ipython3",
   "version": "3.11.4"
  }
 },
 "nbformat": 4,
 "nbformat_minor": 5
}
